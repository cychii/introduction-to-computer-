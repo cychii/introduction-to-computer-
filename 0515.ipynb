{
  "nbformat": 4,
  "nbformat_minor": 0,
  "metadata": {
    "colab": {
      "provenance": [],
      "authorship_tag": "ABX9TyO6yAeH61dx+eDpFcUl7RGu",
      "include_colab_link": true
    },
    "kernelspec": {
      "name": "python3",
      "display_name": "Python 3"
    },
    "language_info": {
      "name": "python"
    }
  },
  "cells": [
    {
      "cell_type": "markdown",
      "metadata": {
        "id": "view-in-github",
        "colab_type": "text"
      },
      "source": [
        "<a href=\"https://colab.research.google.com/github/cychii/introduction-to-computer-/blob/main/0515.ipynb\" target=\"_parent\"><img src=\"https://colab.research.google.com/assets/colab-badge.svg\" alt=\"Open In Colab\"/></a>"
      ]
    },
    {
      "cell_type": "code",
      "execution_count": null,
      "metadata": {
        "colab": {
          "base_uri": "https://localhost:8080/"
        },
        "id": "cfQx9UW8Q0Jl",
        "outputId": "d7220aaf-2962-4b27-c88a-0c01be325b5c"
      },
      "outputs": [
        {
          "output_type": "stream",
          "name": "stdout",
          "text": [
            "今天會下雨嗎?f\n",
            "請重新輸入\n"
          ]
        }
      ],
      "source": [
        "rain = str(input(\"今天會下雨嗎?\"))\n",
        "if (rain==\"Y\"or rain==\"y\"):\n",
        "  print(\"出門記得帶傘!\")\n",
        "elif (rain==\"N\"or rain==\"n\"):\n",
        "  print(\"不用帶傘!\")\n",
        "else:\n",
        "  print(\"請重新輸入\")"
      ]
    },
    {
      "cell_type": "code",
      "source": [
        "成績 = int(input(\"請輸入成績\"))\n",
        "if 成績 >= 90:\n",
        "  print(\"A\")\n",
        "elif 成績 >= 80:\n",
        "  print(\"B\")\n",
        "elif 成績 >= 70:\n",
        "  print(\"C\")\n",
        "elif 成績 >= 60:\n",
        "  print(\"D\")\n",
        "else:\n",
        "  print(\"E\")"
      ],
      "metadata": {
        "colab": {
          "base_uri": "https://localhost:8080/"
        },
        "id": "eOwQZnZ1T0qy",
        "outputId": "7548516f-91c1-4e11-b24b-c87213ce79f9"
      },
      "execution_count": 5,
      "outputs": [
        {
          "output_type": "stream",
          "name": "stdout",
          "text": [
            "請輸入成績77\n",
            "C\n"
          ]
        }
      ]
    },
    {
      "cell_type": "code",
      "source": [
        "體溫 = float(input(\"請輸入體溫\"))\n",
        "if 體溫 >= 37.5:\n",
        "  print(\"體溫過高!\")\n",
        "elif 體溫 >= 37:\n",
        "  print(\"體溫略高!\")\n",
        "elif 體溫 >= 34:\n",
        "  print(\"體溫正常!\")\n",
        "else:\n",
        "  print(\"體溫異常，請重新量測\")"
      ],
      "metadata": {
        "colab": {
          "base_uri": "https://localhost:8080/"
        },
        "id": "NeIOOqCQUsJ4",
        "outputId": "9c8ccf64-f7b6-4432-e88d-3d8ed28a329c"
      },
      "execution_count": 16,
      "outputs": [
        {
          "output_type": "stream",
          "name": "stdout",
          "text": [
            "請輸入體溫36\n",
            "體溫正常!\n"
          ]
        }
      ]
    },
    {
      "cell_type": "code",
      "source": [
        "n = int(input(\"請輸入月份\"))\n",
        "if (n==3 or n==4 or n==5):\n",
        "  print(f'{n}月是春天!')\n",
        "elif (n==6 or n==7 or n==8):\n",
        "  print(f'{n}月是夏天!')\n",
        "elif (n==9 or n==10 or n==11):\n",
        "  print(f'{n}月是秋天!')\n",
        "elif (n==12 or n==1 or n==2):\n",
        "  print(f'{n}月是冬天!')\n",
        "else:\n",
        "  print(\"月份不在範圍內!\")"
      ],
      "metadata": {
        "colab": {
          "base_uri": "https://localhost:8080/"
        },
        "id": "cOAI5yUcWmME",
        "outputId": "861f15a3-8d05-4905-c98c-55564fc328cf"
      },
      "execution_count": 18,
      "outputs": [
        {
          "output_type": "stream",
          "name": "stdout",
          "text": [
            "請輸入月份7\n",
            "7月是夏天!\n"
          ]
        }
      ]
    },
    {
      "cell_type": "code",
      "source": [
        "income = int(input(\"請輸入今年收入淨額:\"))\n",
        "if income >= 2000000:\n",
        "  print(\"付稅金額:\",income*0.3,\"元\")\n",
        "elif income >= 1000000:\n",
        "  print(\"付稅金額:\",income*0.21,\"元\")\n",
        "elif income >= 600000:\n",
        "  print(\"付稅金額:\",income*0.13,\"元\")\n",
        "elif income >= 300000:\n",
        "  print(\"付稅金額:\",income*0.06,\"元\")\n",
        "else:\n",
        "  print(\"付稅金額:\",income*0,\"元\")"
      ],
      "metadata": {
        "colab": {
          "base_uri": "https://localhost:8080/"
        },
        "id": "uOhB75SyYTpx",
        "outputId": "c31c7a33-270b-408e-efdf-1ffb10a20752"
      },
      "execution_count": 31,
      "outputs": [
        {
          "output_type": "stream",
          "name": "stdout",
          "text": [
            "請輸入今年收入淨額:2555564\n",
            "付稅金額: 766669.2 元\n"
          ]
        }
      ]
    }
  ]
}